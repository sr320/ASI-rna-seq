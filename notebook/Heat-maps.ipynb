{
 "metadata": {
  "name": "",
  "signature": "sha256:f6feb7323b419b011e620ccb359ed2b42e41095013c30ffa8c294a229eb814ea"
 },
 "nbformat": 3,
 "nbformat_minor": 0,
 "worksheets": [
  {
   "cells": [
    {
     "cell_type": "heading",
     "level": 1,
     "metadata": {},
     "source": [
      "Making Visualizations from DESeq data"
     ]
    },
    {
     "cell_type": "markdown",
     "metadata": {},
     "source": [
      "DESeq2 results...."
     ]
    },
    {
     "cell_type": "code",
     "collapsed": false,
     "input": [
      "ls ../output/"
     ],
     "language": "python",
     "metadata": {},
     "outputs": [
      {
       "output_type": "stream",
       "stream": "stdout",
       "text": [
        "CGI-deseqlist-join-2column.csv       Cgigas-DEGlist\r\n",
        "CGI-deseqlist-join-DEGONLY.csv       Cgigas-DEGlist-sql\r\n",
        "CGI-deseqlist-join.csv               chart_9191DA494A5E1421868348460.txt\r\n"
       ]
      }
     ],
     "prompt_number": 2
    },
    {
     "cell_type": "markdown",
     "metadata": {},
     "source": [
      "Joining in SQLShare to get Protein name and GOslim bin"
     ]
    },
    {
     "cell_type": "markdown",
     "metadata": {},
     "source": [
      "```\n",
      "SELECT  \n",
      "CGI_ID,\n",
      "log2FoldChange,  \n",
      "SPID,\n",
      "Description,\n",
      "GOID,\n",
      "GOSlim_bin  \n",
      "  FROM [sr320@washington.edu].[Cgigas-DEGlist-sql]de\n",
      "  left join\n",
      "[sr320@washington.edu].[qDOD_Cgigas_GO_GOslim_DISTINCT]go\n",
      "  on \n",
      "de.baseMean=go.CGI_ID  \n",
      "  where \n",
      "  aspect = 'P'\n",
      "```    "
     ]
    },
    {
     "cell_type": "markdown",
     "metadata": {},
     "source": [
      "Will also upload count data to get subset."
     ]
    },
    {
     "cell_type": "markdown",
     "metadata": {},
     "source": [
      "https://sqlshare.escience.washington.edu/sqlshare/#s=query%2Fsr320%40washington.edu%2FCgigas-HS-count.txt&q="
     ]
    },
    {
     "cell_type": "markdown",
     "metadata": {},
     "source": [
      "```\n",
      "SELECT * FROM [sr320@washington.edu].[Cgigas-DEGlist-GOdesc]de\n",
      "  left join\n",
      "  [sr320@washington.edu].[Cgigas-HS-count.txt]cnt\n",
      "  on\n",
      "  de.CGI_ID=cnt.[Feature ID]\n",
      "```"
     ]
    },
    {
     "cell_type": "markdown",
     "metadata": {},
     "source": [
      "```\n",
      "SELECT * FROM [sr320@washington.edu].[Cgigas-DEGlist-GOdesc]de\n",
      "  left join\n",
      "  [sr320@washington.edu].[Cgigas-HS-count.txt]cnt\n",
      "  on\n",
      "  de.CGI_ID=cnt.[Feature ID]\n",
      "  where\n",
      "  GOSlim_bin like '%stress%'\n",
      "```    "
     ]
    },
    {
     "cell_type": "code",
     "collapsed": false,
     "input": [],
     "language": "python",
     "metadata": {},
     "outputs": []
    }
   ],
   "metadata": {}
  }
 ]
}